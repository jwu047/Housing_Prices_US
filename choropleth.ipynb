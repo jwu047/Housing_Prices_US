{
 "cells": [
  {
   "cell_type": "code",
   "execution_count": 32,
   "metadata": {},
   "outputs": [
    {
     "data": {
      "text/html": [
       "<script>requirejs.config({paths: { 'plotly': ['https://cdn.plot.ly/plotly-latest.min']},});if(!window.Plotly) {{require(['plotly'],function(plotly) {window.Plotly=plotly;});}}</script>"
      ],
      "text/vnd.plotly.v1+html": [
       "<script>requirejs.config({paths: { 'plotly': ['https://cdn.plot.ly/plotly-latest.min']},});if(!window.Plotly) {{require(['plotly'],function(plotly) {window.Plotly=plotly;});}}</script>"
      ]
     },
     "metadata": {},
     "output_type": "display_data"
    },
    {
     "data": {
      "text/plain": [
       "'file://C:\\\\Users\\\\Jason\\\\Desktop\\\\Tell-a-Story-master\\\\temp-plot.html'"
      ]
     },
     "execution_count": 32,
     "metadata": {},
     "output_type": "execute_result"
    }
   ],
   "source": [
    "import plotly.plotly as py\n",
    "plotly.offline.init_notebook_mode(connected=True)\n",
    "\n",
    "import pandas as pd\n",
    "\n",
    "df = pd.read_csv('mean-home-price-data.csv')\n",
    "\n",
    "for col in df.columns:\n",
    "    df[col] = df[col].astype(str)\n",
    "\n",
    "scl = [[0.0, 'rgb(102,178,255)'],[0.2, 'rgb(153,204,255)'],[0.4, 'rgb(204,229,255)'],\\\n",
    "            [0.6, 'rgb(255,204,204)'],[0.8, 'rgb(255,153,153)'],[1.0, 'rgb(255,102,102)']]\n",
    "\n",
    "df['text'] = df.STATE\n",
    "\n",
    "data = [ dict(\n",
    "        type='choropleth',\n",
    "        colorscale = scl,\n",
    "        autocolorscale = False,\n",
    "        locations = df['ABBR'],\n",
    "        z = df['AVERAGE HOME PRICE, 2018'].replace({'\\$': '', ',': ''}, regex=True).astype(float),\n",
    "        locationmode = 'USA-states',\n",
    "        text = df['text'],\n",
    "        marker = dict(\n",
    "            line = dict (\n",
    "                color = 'rgb(255,255,255)',\n",
    "                width = 2\n",
    "            ) ),\n",
    "        colorbar = dict(\n",
    "            title = \"Average Housing Price\")\n",
    "        ) ]\n",
    "\n",
    "layout = dict(\n",
    "        title = '2018 Average Housing Price',\n",
    "        geo = dict(\n",
    "            scope='usa',\n",
    "            projection=dict( type='albers usa' ),\n",
    "            showlakes = True,\n",
    "            lakecolor = 'rgb(255, 255, 255)'),\n",
    "             )\n",
    "plotly.offline.plot({\n",
    "    \"data\": data,\n",
    "    \"layout\": layout,\n",
    "}, auto_open=True)"
   ]
  },
  {
   "cell_type": "code",
   "execution_count": 6,
   "metadata": {},
   "outputs": [
    {
     "data": {
      "text/html": [
       "<div>\n",
       "<style scoped>\n",
       "    .dataframe tbody tr th:only-of-type {\n",
       "        vertical-align: middle;\n",
       "    }\n",
       "\n",
       "    .dataframe tbody tr th {\n",
       "        vertical-align: top;\n",
       "    }\n",
       "\n",
       "    .dataframe thead th {\n",
       "        text-align: right;\n",
       "    }\n",
       "</style>\n",
       "<table border=\"1\" class=\"dataframe\">\n",
       "  <thead>\n",
       "    <tr style=\"text-align: right;\">\n",
       "      <th></th>\n",
       "      <th>STATE</th>\n",
       "      <th>ABBR</th>\n",
       "      <th>POPULATION</th>\n",
       "      <th>AVERAGE AGE</th>\n",
       "      <th>AVERAGE INCOME</th>\n",
       "      <th>POVERTY</th>\n",
       "      <th>CRIME</th>\n",
       "      <th>AVERAGE HOME PRICE, 2018</th>\n",
       "      <th>% crime per population</th>\n",
       "    </tr>\n",
       "  </thead>\n",
       "  <tbody>\n",
       "    <tr>\n",
       "      <th>0</th>\n",
       "      <td>Texas</td>\n",
       "      <td>TX</td>\n",
       "      <td>27904862</td>\n",
       "      <td>34.2</td>\n",
       "      <td>$58,146.00</td>\n",
       "      <td>16.7</td>\n",
       "      <td>434.424703</td>\n",
       "      <td>$185,033.33</td>\n",
       "      <td>0.0016%</td>\n",
       "    </tr>\n",
       "    <tr>\n",
       "      <th>1</th>\n",
       "      <td>Utah</td>\n",
       "      <td>UT</td>\n",
       "      <td>3044321</td>\n",
       "      <td>30.3</td>\n",
       "      <td>$67,481.00</td>\n",
       "      <td>11.7</td>\n",
       "      <td>242.755596</td>\n",
       "      <td>$307,666.67</td>\n",
       "      <td>0.0080%</td>\n",
       "    </tr>\n",
       "    <tr>\n",
       "      <th>2</th>\n",
       "      <td>Vermont</td>\n",
       "      <td>VT</td>\n",
       "      <td>623354</td>\n",
       "      <td>42.6</td>\n",
       "      <td>$60,837.00</td>\n",
       "      <td>11.6</td>\n",
       "      <td>158.342860</td>\n",
       "      <td>$195,911.11</td>\n",
       "      <td>0.0254%</td>\n",
       "    </tr>\n",
       "    <tr>\n",
       "      <th>3</th>\n",
       "      <td>Virginia</td>\n",
       "      <td>VA</td>\n",
       "      <td>8414380</td>\n",
       "      <td>37.8</td>\n",
       "      <td>$66,451.00</td>\n",
       "      <td>11.4</td>\n",
       "      <td>217.575104</td>\n",
       "      <td>$250,255.56</td>\n",
       "      <td>0.0026%</td>\n",
       "    </tr>\n",
       "    <tr>\n",
       "      <th>4</th>\n",
       "      <td>Washington</td>\n",
       "      <td>WA</td>\n",
       "      <td>7280934</td>\n",
       "      <td>37.6</td>\n",
       "      <td>$70,310.00</td>\n",
       "      <td>12.7</td>\n",
       "      <td>302.181669</td>\n",
       "      <td>$368,522.22</td>\n",
       "      <td>0.0042%</td>\n",
       "    </tr>\n",
       "  </tbody>\n",
       "</table>\n",
       "</div>"
      ],
      "text/plain": [
       "        STATE ABBR  POPULATION  AVERAGE AGE AVERAGE INCOME  POVERTY  \\\n",
       "0       Texas   TX    27904862         34.2     $58,146.00     16.7   \n",
       "1        Utah   UT     3044321         30.3     $67,481.00     11.7   \n",
       "2     Vermont   VT      623354         42.6     $60,837.00     11.6   \n",
       "3    Virginia   VA     8414380         37.8     $66,451.00     11.4   \n",
       "4  Washington   WA     7280934         37.6     $70,310.00     12.7   \n",
       "\n",
       "        CRIME AVERAGE HOME PRICE, 2018 % crime per population  \n",
       "0  434.424703              $185,033.33                0.0016%  \n",
       "1  242.755596              $307,666.67                0.0080%  \n",
       "2  158.342860              $195,911.11                0.0254%  \n",
       "3  217.575104              $250,255.56                0.0026%  \n",
       "4  302.181669              $368,522.22                0.0042%  "
      ]
     },
     "execution_count": 6,
     "metadata": {},
     "output_type": "execute_result"
    }
   ],
   "source": [
    "# Reference\n",
    "import plotly.plotly as py\n",
    "import pandas as pd\n",
    "\n",
    "df = pd.read_csv('mean-home-price-data.csv')\n",
    "df.head()"
   ]
  },
  {
   "cell_type": "code",
   "execution_count": null,
   "metadata": {},
   "outputs": [],
   "source": []
  }
 ],
 "metadata": {
  "kernelspec": {
   "display_name": "Python 3",
   "language": "python",
   "name": "python3"
  },
  "language_info": {
   "codemirror_mode": {
    "name": "ipython",
    "version": 3
   },
   "file_extension": ".py",
   "mimetype": "text/x-python",
   "name": "python",
   "nbconvert_exporter": "python",
   "pygments_lexer": "ipython3",
   "version": "3.6.5"
  }
 },
 "nbformat": 4,
 "nbformat_minor": 2
}
